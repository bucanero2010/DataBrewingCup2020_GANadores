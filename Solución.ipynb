{
 "cells": [
  {
   "cell_type": "markdown",
   "metadata": {},
   "source": [
    "# Solución reto Perú - Equipo GANadores"
   ]
  },
  {
   "cell_type": "markdown",
   "metadata": {},
   "source": [
    "## Importación de librerias y definición de funciones a utilizar"
   ]
  },
  {
   "cell_type": "code",
   "execution_count": 1,
   "metadata": {},
   "outputs": [],
   "source": [
    "import pandas as pd\n",
    "import numpy as np\n",
    "import matplotlib.pyplot as plt\n",
    "import seaborn as sns\n",
    "from tqdm import tqdm_notebook\n",
    "from catboost import CatBoostClassifier\n",
    "import lightgbm as lgb\n",
    "from sklearn.metrics import roc_auc_score\n",
    "pd.set_option('display.max_columns', None)"
   ]
  },
  {
   "cell_type": "code",
   "execution_count": 2,
   "metadata": {},
   "outputs": [],
   "source": [
    "import warnings\n",
    "warnings.filterwarnings('ignore')"
   ]
  },
  {
   "cell_type": "code",
   "execution_count": 3,
   "metadata": {},
   "outputs": [],
   "source": [
    "#Función para obtener variables con alta correlación\n",
    "def get_correlated(data, cut=0.85):\n",
    "    correlated_features = set()\n",
    "    correlation_matrix = data.corr()\n",
    "    \n",
    "    for i in range(len(correlation_matrix .columns)):\n",
    "        for j in range(i):\n",
    "            if abs(correlation_matrix.iloc[i, j]) > cut:\n",
    "                colname = correlation_matrix.columns[i]\n",
    "                correlated_features.add(colname)\n",
    "            \n",
    "    return correlated_features \n",
    "\n",
    "#Función para obtener la importancia de variables\n",
    "def plot_importances(model, X, n_features=-1):\n",
    "    \n",
    "    importances = model.feature_importances_\n",
    "    indices = np.argsort(importances)\n",
    "    if n_features!=-1:\n",
    "        indices=indices[-n_features:]\n",
    "\n",
    "    plt.figure()\n",
    "    plt.title(\"Feature importances\")\n",
    "    plt.barh(range(len(X.columns[indices])), importances[indices],\n",
    "           align=\"center\")\n",
    "    \n",
    "    plt.yticks(range(len(X.columns[indices])), X.columns[indices])\n",
    "    plt.ylim([-1, len(X.columns[indices])])\n",
    "    plt.show()"
   ]
  },
  {
   "cell_type": "markdown",
   "metadata": {},
   "source": [
    "## Lectura de datasets y preprocesamiento"
   ]
  },
  {
   "cell_type": "code",
   "execution_count": 4,
   "metadata": {},
   "outputs": [],
   "source": [
    "active_promos=pd.read_csv('Datasets/active_promos.csv')\n",
    "sales=pd.read_csv('Datasets/sales.csv',encoding='ISO-8859-1')\n",
    "clients=pd.read_csv('Datasets/clients_attributes.csv')\n",
    "executed_promos=pd.read_csv('Datasets/executed_promos.csv')"
   ]
  },
  {
   "cell_type": "code",
   "execution_count": 5,
   "metadata": {},
   "outputs": [],
   "source": [
    "#Creación del Target del problema\n",
    "executed_promos['Target']=1\n",
    "active_promos=active_promos.merge(executed_promos,on=['CodigoDC','Marca','Cupo','Cliente'],how='left').replace(np.nan,0)\n",
    "\n",
    "sales=sales.dropna()\n",
    "sales.Cupo=sales.Cupo.astype('int')\n",
    "sales.SegmentoPrecio=sales.SegmentoPrecio.astype('int')\n",
    "sales['Dcto']=sales['Dcto']*-1\n",
    "sales['Hl']=sales['Hl']*100\n",
    "sales['Marca_Cupo']=sales['Marca']*100+sales['Cupo']\n",
    "sales['Anio_Mes']=sales['Año']*100+sales['Mes']"
   ]
  },
  {
   "cell_type": "code",
   "execution_count": 6,
   "metadata": {},
   "outputs": [],
   "source": [
    "#Creación de variables a partir de fechas\n",
    "active_promos['Fecha_Desde']=active_promos['Fecha_Desde'].astype('datetime64[ns]')\n",
    "active_promos['Fecha_Hasta']=active_promos['Fecha_Hasta'].astype('datetime64[ns]')\n",
    "\n",
    "active_promos['aniomes_desde']=pd.DatetimeIndex(active_promos['Fecha_Desde']).year*100+\\\n",
    "                            pd.DatetimeIndex(active_promos['Fecha_Desde']).month\n",
    "\n",
    "active_promos['aniomes_hasta']=pd.DatetimeIndex(active_promos['Fecha_Hasta']).year*100+\\\n",
    "                            pd.DatetimeIndex(active_promos['Fecha_Hasta']).month\n",
    "\n",
    "active_promos['duracion']=(active_promos.Fecha_Hasta-active_promos.Fecha_Desde).dt.days.astype('int')"
   ]
  },
  {
   "cell_type": "markdown",
   "metadata": {},
   "source": [
    "## Feature Engineering"
   ]
  },
  {
   "cell_type": "code",
   "execution_count": 7,
   "metadata": {},
   "outputs": [
    {
     "data": {
      "application/vnd.jupyter.widget-view+json": {
       "model_id": "71088061d18a42ca8130967c0c5e6998",
       "version_major": 2,
       "version_minor": 0
      },
      "text/plain": [
       "HBox(children=(IntProgress(value=0, max=14), HTML(value='')))"
      ]
     },
     "metadata": {},
     "output_type": "display_data"
    },
    {
     "name": "stdout",
     "output_type": "stream",
     "text": [
      "\n"
     ]
    }
   ],
   "source": [
    "#Creación de variable con el acumulado de Target por Marca-Cupo-Cliente\n",
    "l_t=[]\n",
    "\n",
    "for i in tqdm_notebook(list(active_promos.aniomes_desde.unique())):\n",
    "    t=active_promos[active_promos.aniomes_hasta<i].groupby(['Marca','Cupo','Cliente']).Target.mean().reset_index()\n",
    "    t.columns=['Marca','Cupo','Cliente','Target_historico']\n",
    "    t['aniomes_desde']=i\n",
    "    l_t.append(t)\n",
    "    \n",
    "t_historico=pd.concat(l_t)\n",
    "active_promos=active_promos.merge(t_historico,on=['Marca','Cupo','Cliente','aniomes_desde'],how='left')\n",
    "active_promos=active_promos.replace(np.nan,0)"
   ]
  },
  {
   "cell_type": "code",
   "execution_count": 8,
   "metadata": {},
   "outputs": [
    {
     "data": {
      "application/vnd.jupyter.widget-view+json": {
       "model_id": "e240842814ec492f9f39f6a2cb2fd594",
       "version_major": 2,
       "version_minor": 0
      },
      "text/plain": [
       "HBox(children=(IntProgress(value=0, max=14), HTML(value='')))"
      ]
     },
     "metadata": {},
     "output_type": "display_data"
    },
    {
     "name": "stdout",
     "output_type": "stream",
     "text": [
      "\n"
     ]
    }
   ],
   "source": [
    "#Creación de variables agregadas sobre la tabla active_promos\n",
    "agg_promos={'CodigoDC':['nunique'],\n",
    "           'Target':['max','mean'],\n",
    "           'aniomes_desde':['nunique'],\n",
    "           'Target_historico':['max','mean'],\n",
    "           'duracion':['mean','max','min','std']}\n",
    "dfs_1=[]\n",
    "dfs_2=[]\n",
    "dfs_3=[]\n",
    "\n",
    "#Se itera considerando solo información del pasado para evitar overfitting\n",
    "for i in tqdm_notebook(list(active_promos.aniomes_desde.unique())):\n",
    "    gb_1=active_promos[active_promos.aniomes_desde<i].groupby(['Marca','Cupo','Cliente']).agg(agg_promos)\n",
    "    gb_1.columns=['agg1_'+a+'_'+b for a,b in gb_1.columns]\n",
    "    gb_1['aniomes_desde']=i\n",
    "    gb_1=gb_1.reset_index()\n",
    "    dfs_1.append(gb_1)\n",
    "    \n",
    "    gb_2=active_promos[active_promos.aniomes_desde<i].groupby(['Cliente']).agg(agg_promos)\n",
    "    gb_2.columns=['agg2_'+a+'_'+b for a,b in gb_2.columns]\n",
    "    gb_2['aniomes_desde']=i\n",
    "    gb_2=gb_2.reset_index()\n",
    "    dfs_2.append(gb_2)\n",
    "    \n",
    "    gb_3=active_promos[active_promos.aniomes_desde<i].groupby(['Marca','Cupo']).agg(agg_promos)\n",
    "    gb_3.columns=['agg3_'+a+'_'+b for a,b in gb_3.columns]\n",
    "    gb_3['aniomes_desde']=i\n",
    "    gb_3=gb_3.reset_index()\n",
    "    dfs_3.append(gb_3)\n",
    "        \n",
    "agg_active_1=pd.concat(dfs_1)\n",
    "agg_active_2=pd.concat(dfs_2)\n",
    "agg_active_3=pd.concat(dfs_3)"
   ]
  },
  {
   "cell_type": "code",
   "execution_count": 9,
   "metadata": {},
   "outputs": [],
   "source": [
    "#Unión con tabla clients\n",
    "active_promos=active_promos.merge(clients,on=['Cliente'],how='left')\n",
    "\n",
    "#Creación de variables a partir de columnas de clientes\n",
    "active_promos['FechaAltaCliente']=active_promos['FechaAltaCliente'].astype('datetime64[ns]')\n",
    "\n",
    "active_promos['aniomes_alta']=pd.DatetimeIndex(active_promos['FechaAltaCliente']).year*100+\\\n",
    "                            pd.DatetimeIndex(active_promos['FechaAltaCliente']).month\n",
    "\n",
    "\n",
    "active_promos['antiguedad']=(active_promos.Fecha_Desde-active_promos.FechaAltaCliente).dt.days.astype('int')\n",
    "\n",
    "active_promos.TipoPoblacion=active_promos.TipoPoblacion.replace(2,0)"
   ]
  },
  {
   "cell_type": "code",
   "execution_count": 10,
   "metadata": {},
   "outputs": [],
   "source": [
    "active_promos['Marca_Cupo']=active_promos['Marca']*100+active_promos['Cupo']\n",
    "active_promos=active_promos.drop(columns=['FechaAltaCliente','Fecha_Desde','Fecha_Hasta'])"
   ]
  },
  {
   "cell_type": "code",
   "execution_count": 11,
   "metadata": {},
   "outputs": [
    {
     "data": {
      "application/vnd.jupyter.widget-view+json": {
       "model_id": "b366a301ca7342fda497f97591208475",
       "version_major": 2,
       "version_minor": 0
      },
      "text/plain": [
       "HBox(children=(IntProgress(value=0, max=14), HTML(value='')))"
      ]
     },
     "metadata": {},
     "output_type": "display_data"
    },
    {
     "name": "stdout",
     "output_type": "stream",
     "text": [
      "\n"
     ]
    }
   ],
   "source": [
    "#Creación de variables agregadas a partir de sales\n",
    "productos_train=list(active_promos['Marca_Cupo'].unique())\n",
    "\n",
    "#Funciones de agregación personalizadas\n",
    "moda=lambda x:x.value_counts().index[0]\n",
    "moda.__name__='mode'\n",
    "cuenta_desc=lambda x:(x>0).sum()\n",
    "cuenta_desc.__name__='n_desc'\n",
    "cuenta_neg=lambda x:(x<0).sum()\n",
    "cuenta_neg.__name__='n_neg'\n",
    "\n",
    "agg_cliente={'ClaseEnvase':[moda],\n",
    "             'SegmentoPrecio':['mean'],\n",
    "             'Marca_Cupo':['nunique',moda],\n",
    "             'Anio_Mes':['nunique','max','min'],\n",
    "             'Nr':['sum','median','max','min','std'],\n",
    "             'Hl':['sum','mean','max','min','std'],\n",
    "             'Dcto':['sum','mean','max','min','std']}\n",
    "\n",
    "agg_producto={'Cliente':['nunique'],\n",
    "            'ClaseEnvase':[moda],\n",
    "             'SegmentoPrecio':['mean'],\n",
    "             'Anio_Mes':['nunique'],\n",
    "             'Nr':['sum','median','max','min','std',cuenta_neg],\n",
    "             'Hl':['sum','mean','max','min','std'],\n",
    "             'Dcto':['sum','mean','max','min','std',cuenta_desc]}\n",
    "\n",
    "agg_cliente_producto={'Anio_Mes':['nunique','max','min'],\n",
    "             'Nr':['sum','median','max','min','std'],\n",
    "             'Hl':['sum','mean','max','min','std'],\n",
    "             'Dcto':['sum','mean','max','min','std']}\n",
    "\n",
    "l_1=[]\n",
    "l_2=[]\n",
    "l_3=[]\n",
    "\n",
    "#Se itera considerando solo información del pasado para evitar overfitting\n",
    "for i in tqdm_notebook(list(active_promos.aniomes_desde.unique())):\n",
    "    \n",
    "    t1=sales[sales.Anio_Mes<i].groupby('Cliente').agg(agg_cliente)\n",
    "    t1.columns=['cliente_'+str(a)+'_'+str(b) for a,b in t1.columns]\n",
    "    t1=t1.reset_index()\n",
    "    t1['aniomes_desde']=i\n",
    "\n",
    "    t2=sales[(sales.Marca_Cupo.isin(productos_train)) & (sales.Anio_Mes<i)].groupby(['Marca_Cupo']).agg(agg_producto)\n",
    "    t2.columns=['producto_'+str(a)+'_'+str(b) for a,b in t2.columns]\n",
    "    t2=t2.reset_index()\n",
    "    t2['aniomes_desde']=i\n",
    "\n",
    "    t3=sales[(sales.Marca_Cupo.isin(productos_train)) & (sales.Anio_Mes<i)].groupby(['Cliente','Marca_Cupo']).agg(agg_cliente_producto)\n",
    "    t3.columns=['cliente_producto_'+str(a)+'_'+str(b) for a,b in t3.columns]\n",
    "    t3=t3.reset_index()\n",
    "    t3['aniomes_desde']=i\n",
    "    \n",
    "    l_1.append(t1)\n",
    "    l_2.append(t2)\n",
    "    l_3.append(t3)\n",
    "    \n",
    "agg_sales_1=pd.concat(l_1)\n",
    "agg_sales_2=pd.concat(l_2)\n",
    "agg_sales_3=pd.concat(l_3)"
   ]
  },
  {
   "cell_type": "code",
   "execution_count": 12,
   "metadata": {},
   "outputs": [],
   "source": [
    "#Concatenación de active_promos con variables agregadas\n",
    "active_promos=active_promos.merge(agg_active_1,on=['Cliente','Marca','Cupo','aniomes_desde'],how='left').replace(np.nan,0)\n",
    "active_promos=active_promos.merge(agg_active_2,on=['Cliente','aniomes_desde'],how='left').replace(np.nan,0)\n",
    "active_promos=active_promos.merge(agg_active_3,on=['Marca','Cupo','aniomes_desde'],how='left').replace(np.nan,0)\n",
    "\n",
    "active_promos=active_promos.merge(agg_sales_1,on=['Cliente','aniomes_desde'],how='left',copy=False)\n",
    "active_promos=active_promos.merge(agg_sales_2,on=['Marca_Cupo','aniomes_desde'],how='left',copy=False)\n",
    "active_promos=active_promos.merge(agg_sales_3,on=['Marca_Cupo','Cliente','aniomes_desde'], \n",
    "                                  how='left',copy=False).replace(np.nan,0)"
   ]
  },
  {
   "cell_type": "code",
   "execution_count": 13,
   "metadata": {},
   "outputs": [],
   "source": [
    "#Creación de ratios a partir de variables agregadas\n",
    "active_promos['cliente_Hl:Nr_median']=active_promos['cliente_Hl_mean']/active_promos['cliente_Nr_median']\n",
    "active_promos['cliente_Hl:Nr_max']=active_promos['cliente_Hl_max']/active_promos['cliente_Nr_max']\n",
    "active_promos['cliente_Hl:Nr_min']=active_promos['cliente_Hl_min']/active_promos['cliente_Nr_min']\n",
    "\n",
    "active_promos['cliente_Dcto:Nr_median']=active_promos['cliente_Dcto_mean']/active_promos['cliente_Nr_median']\n",
    "active_promos['cliente_Dcto:Nr_max']=active_promos['cliente_Dcto_max']/active_promos['cliente_Nr_max']\n",
    "active_promos['cliente_Dcto:Nr_min']=active_promos['cliente_Dcto_min']/active_promos['cliente_Nr_min']\n",
    "\n",
    "active_promos['cliente_Nr:mes']=active_promos['cliente_Nr_sum']/active_promos['cliente_Anio_Mes_nunique']\n",
    "active_promos['cliente_Hl:mes']=active_promos['cliente_Hl_sum']/active_promos['cliente_Anio_Mes_nunique']\n",
    "active_promos['cliente_Dcto:mes']=active_promos['cliente_Dcto_sum']/active_promos['cliente_Anio_Mes_nunique']\n",
    "\n",
    "active_promos['cliente_producto_Hl:Nr_median']=active_promos['cliente_producto_Hl_mean']/active_promos['cliente_producto_Nr_median']\n",
    "active_promos['cliente_producto_Hl:Nr_max']=active_promos['cliente_producto_Hl_max']/active_promos['cliente_producto_Nr_max']\n",
    "active_promos['cliente_producto_Hl:Nr_min']=active_promos['cliente_producto_Hl_min']/active_promos['cliente_producto_Nr_min']\n",
    "\n",
    "active_promos['cliente_producto_Dcto:Nr_median']=active_promos['cliente_producto_Dcto_mean']/active_promos['cliente_producto_Nr_median']\n",
    "active_promos['cliente_producto_Dcto:Nr_max']=active_promos['cliente_producto_Dcto_max']/active_promos['cliente_producto_Nr_max']\n",
    "active_promos['cliente_producto_Dcto:Nr_min']=active_promos['cliente_producto_Dcto_min']/active_promos['cliente_producto_Nr_min']\n",
    "\n",
    "active_promos['cliente_producto_Nr:mes']=active_promos['cliente_producto_Nr_sum']/active_promos['cliente_producto_Anio_Mes_nunique']\n",
    "active_promos['cliente_producto_Hl:mes']=active_promos['cliente_producto_Hl_sum']/active_promos['cliente_producto_Anio_Mes_nunique']\n",
    "active_promos['cliente_producto_Dcto:mes']=active_promos['cliente_producto_Dcto_sum']/active_promos['cliente_producto_Anio_Mes_nunique']\n",
    "\n",
    "active_promos['producto_Nr:mes']=active_promos['producto_Nr_sum']/active_promos['producto_Anio_Mes_nunique']\n",
    "active_promos['producto_Hl:mes']=active_promos['producto_Hl_sum']/active_promos['producto_Anio_Mes_nunique']\n",
    "active_promos['producto_Dcto:mes']=active_promos['producto_Dcto_sum']/active_promos['producto_Anio_Mes_nunique']\n",
    "\n",
    "active_promos['marca_favorita']=(active_promos.Marca_Cupo==active_promos.cliente_Marca_Cupo_mode).astype('int')"
   ]
  },
  {
   "cell_type": "markdown",
   "metadata": {},
   "source": [
    "## Tratamiento de variables categóricas"
   ]
  },
  {
   "cell_type": "code",
   "execution_count": 14,
   "metadata": {},
   "outputs": [
    {
     "data": {
      "application/vnd.jupyter.widget-view+json": {
       "model_id": "3f4617e492ba4193adc2217ed2c72516",
       "version_major": 2,
       "version_minor": 0
      },
      "text/plain": [
       "HBox(children=(IntProgress(value=0, max=14), HTML(value='')))"
      ]
     },
     "metadata": {},
     "output_type": "display_data"
    },
    {
     "name": "stdout",
     "output_type": "stream",
     "text": [
      "\n"
     ]
    }
   ],
   "source": [
    "#Mean encoding de variables categóricas\n",
    "active_promos['mes_desde']=active_promos['aniomes_desde']%100\n",
    "columnas_cat=['Cliente','Marca_Cupo','Region','Gerencia','SubCanal','Estrato','cliente_Marca_Cupo_mode','mes_desde']\n",
    "\n",
    "for col in columnas_cat:\n",
    "    active_promos[col+'_me']=0\n",
    "\n",
    "#Se hace regularización considerando solamente meses anteriores para realizar el mean encoding\n",
    "for i in tqdm_notebook(list(active_promos.aniomes_desde.unique())):\n",
    "    t1=active_promos.iloc[active_promos.index[active_promos.aniomes_desde<i]]\n",
    "    t2=active_promos.iloc[active_promos.index[active_promos.aniomes_desde==i]]\n",
    "    for col in columnas_cat:\n",
    "        means=t1.groupby(col).Target.mean()\n",
    "        t2[col+'_me']=t2[col].map(means)\n",
    "    active_promos.iloc[active_promos.index[active_promos.aniomes_desde==i]]=t2"
   ]
  },
  {
   "cell_type": "code",
   "execution_count": 15,
   "metadata": {},
   "outputs": [],
   "source": [
    "active_promos=active_promos.replace(np.nan,0)\n",
    "active_promos=active_promos.replace(np.inf,0)\n",
    "active_promos=active_promos.drop(columns=['CodigoDC'])"
   ]
  },
  {
   "cell_type": "markdown",
   "metadata": {},
   "source": [
    "## Separación de sets para entrenamiento"
   ]
  },
  {
   "cell_type": "code",
   "execution_count": 16,
   "metadata": {},
   "outputs": [],
   "source": [
    "#Separación de data que se usará para el test y el train\n",
    "test_set=active_promos[active_promos.aniomes_desde>=201909]\n",
    "active_promos=active_promos[active_promos.aniomes_desde<201909]\n",
    "\n",
    "#Separación de data que se usará para el validation y el train\n",
    "train=active_promos[active_promos.aniomes_desde<201908]\n",
    "val=active_promos[active_promos.aniomes_desde>=201908]\n",
    "\n",
    "#Eliminación de columnas categóricas y IDs\n",
    "columnas_drop=['Marca','Cupo']+columnas_cat\n",
    "active_promos=active_promos.drop(columns=columnas_drop)\n",
    "\n",
    "columnas_train=[x for x in active_promos.columns if x!='Target']\n",
    "X_train,X_test,y_train,y_test=train[columnas_train],val[columnas_train],train['Target'],val['Target']\n",
    "\n",
    "X=active_promos[columnas_train]\n",
    "y=active_promos['Target']"
   ]
  },
  {
   "cell_type": "code",
   "execution_count": 17,
   "metadata": {},
   "outputs": [],
   "source": [
    "#Eliminación de variables correlacionadas\n",
    "correlated=get_correlated(X,cut=0.9)\n",
    "\n",
    "X_train=X_train.drop(columns=correlated)\n",
    "X_test=X_test.drop(columns=correlated)\n",
    "X=X.drop(columns=correlated)"
   ]
  },
  {
   "cell_type": "markdown",
   "metadata": {},
   "source": [
    "## Entrenamiento y validación"
   ]
  },
  {
   "cell_type": "code",
   "execution_count": 18,
   "metadata": {},
   "outputs": [
    {
     "data": {
      "text/plain": [
       "<catboost.core.CatBoostClassifier at 0x2c69dbf78d0>"
      ]
     },
     "execution_count": 18,
     "metadata": {},
     "output_type": "execute_result"
    }
   ],
   "source": [
    "#Entrenamiento de modelo\n",
    "\n",
    "#model=lgbm.LGBMClassifier(n_estimators=400,max_depth=6,learning_rate=0.1,verbose=0)\n",
    "model=CatBoostClassifier(n_estimators=500,verbose=0,max_depth=6)\n",
    "model.fit(X_train,y_train)"
   ]
  },
  {
   "cell_type": "code",
   "execution_count": 19,
   "metadata": {},
   "outputs": [
    {
     "data": {
      "text/plain": [
       "0.8851971602669148"
      ]
     },
     "execution_count": 19,
     "metadata": {},
     "output_type": "execute_result"
    }
   ],
   "source": [
    "#Validación del modelo\n",
    "preds=model.predict_proba(X_test)[:,-1]\n",
    "\n",
    "val['preds']=preds\n",
    "\n",
    "roc_auc_score(val.groupby(['Cliente','Marca','Cupo']).Target.max().reset_index()['Target']\n",
    "              ,val.groupby(['Cliente','Marca','Cupo']).preds.max().reset_index()['preds'])"
   ]
  },
  {
   "cell_type": "code",
   "execution_count": 20,
   "metadata": {},
   "outputs": [
    {
     "data": {
      "image/png": "[encoded data removed]",
      "text/plain": [
       "<Figure size 432x288 with 1 Axes>"
      ]
     },
     "metadata": {
      "needs_background": "light"
     },
     "output_type": "display_data"
    }
   ],
   "source": [
    "plot_importances(model,X_train,15)"
   ]
  },
  {
   "cell_type": "markdown",
   "metadata": {},
   "source": [
    "## Output final"
   ]
  },
  {
   "cell_type": "code",
   "execution_count": 21,
   "metadata": {},
   "outputs": [],
   "source": [
    "#Lectura de datos de test\n",
    "test=pd.read_csv('Datasets/test.csv')\n",
    "\n",
    "#Eliminación de columnas correlacionadas y IDs\n",
    "to_model=test_set.drop(columns=columnas_drop+['Target','Marca','Cupo'])\n",
    "to_model=to_model.drop(columns=correlated)\n",
    "\n",
    "#Reentrenamiento del modelo con la data completa\n",
    "model.fit(X,y)\n",
    "\n",
    "#Predicciones\n",
    "copia_test_set=test_set.copy()\n",
    "copia_test_set['preds']=model.predict_proba(to_model)[:,-1]\n",
    "\n",
    "t=copia_test_set.groupby(['Cliente','Cupo','Marca']).preds.max().reset_index()\n",
    "\n",
    "test=test.merge(t,on=['Cliente','Marca','Cupo'],how='left')[['Cliente','Marca','Cupo',\n",
    "                                                             'preds']].rename(columns={'preds':'Ejecuto_Promo'})\n",
    "\n",
    "#Resultados finales\n",
    "test.set_index('Cliente').to_csv('submission.csv')"
   ]
  }
 ],
 "metadata": {
  "kernelspec": {
   "display_name": "Python 3",
   "language": "python",
   "name": "python3"
  },
  "language_info": {
   "codemirror_mode": {
    "name": "ipython",
    "version": 3
   },
   "file_extension": ".py",
   "mimetype": "text/x-python",
   "name": "python",
   "nbconvert_exporter": "python",
   "pygments_lexer": "ipython3",
   "version": "3.7.3"
  }
 },
 "nbformat": 4,
 "nbformat_minor": 2
}
